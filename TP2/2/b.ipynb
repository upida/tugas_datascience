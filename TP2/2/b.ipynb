{
 "cells": [
  {
   "cell_type": "code",
   "execution_count": 2,
   "metadata": {},
   "outputs": [
    {
     "data": {
      "text/plain": [
       "(0.3151515151515151,\n",
       " 0.6848484848484848,\n",
       " 0.15384615384615385,\n",
       " 0.20353982300884957,\n",
       " 0.0,\n",
       " 0.4336283185840708,\n",
       " 0.7692307692307693,\n",
       " 0.20353982300884957,\n",
       " 0.0,\n",
       " 0.012302997078625555,\n",
       " 'Junior')"
      ]
     },
     "execution_count": 2,
     "metadata": {},
     "output_type": "execute_result"
    }
   ],
   "source": [
    "import pandas as pd\n",
    "\n",
    "data = {\n",
    "    'Department': ['Sales', 'Sales', 'Sales', 'Systems', 'Systems', 'Systems', 'Systems',\n",
    "                   'Marketing', 'Marketing', 'Secretary', 'Secretary'],\n",
    "    'Status': ['Senior', 'Junior', 'Junior', 'Junior', 'Senior', 'Junior', 'Senior',\n",
    "               'Senior', 'Junior', 'Senior', 'Junior'],\n",
    "    'Usia': ['31-35 thn', '26-30 thn', '31-35 thn', '21-25 thn', '31-35 thn', '26-30 thn',\n",
    "             '41-45 thn', '36-40 thn', '31-35 thn', '46-50 thn', '26-30 thn'],\n",
    "    'Gaji': ['46-50 jt', '26-30 jt', '31-25 jt', '46-50 jt', '66-70 jt', '46-50 jt',\n",
    "             '66-70 jt', '46-50 jt', '41-45 jt', '36-40 jt', '36-30 jt'],\n",
    "    'Jumlah': [30, 40, 40, 20, 5, 3, 3, 10, 4, 4, 6]\n",
    "}\n",
    "\n",
    "df = pd.DataFrame(data)\n",
    "\n",
    "total_data = df['Jumlah'].sum()\n",
    "prior_senior = df[df['Status'] == 'Senior']['Jumlah'].sum() / total_data\n",
    "prior_junior = df[df['Status'] == 'Junior']['Jumlah'].sum() / total_data\n",
    "\n",
    "def likelihood(attribute, value, status):\n",
    "    jumlah_kelas = df[df['Status'] == status]['Jumlah'].sum()\n",
    "    jumlah_kondisi = df[(df[attribute] == value) & (df['Status'] == status)]['Jumlah'].sum()\n",
    "    return jumlah_kondisi / jumlah_kelas if jumlah_kelas != 0 else 0\n",
    "\n",
    "likelihood_dept_senior = likelihood('Department', 'Systems', 'Senior')\n",
    "likelihood_dept_junior = likelihood('Department', 'Systems', 'Junior')\n",
    "likelihood_usia_senior = likelihood('Usia', '26-30 thn', 'Senior')\n",
    "likelihood_usia_junior = likelihood('Usia', '26-30 thn', 'Junior')\n",
    "likelihood_gaji_senior = likelihood('Gaji', '46-50 jt', 'Senior')\n",
    "likelihood_gaji_junior = likelihood('Gaji', '46-50 jt', 'Junior')\n",
    "\n",
    "posterior_senior = prior_senior * likelihood_dept_senior * likelihood_usia_senior * likelihood_gaji_senior\n",
    "posterior_junior = prior_junior * likelihood_dept_junior * likelihood_usia_junior * likelihood_gaji_junior\n",
    "\n",
    "classification = 'Senior' if posterior_senior > posterior_junior else 'Junior'\n",
    "\n",
    "prior_senior, prior_junior, likelihood_dept_senior, likelihood_dept_junior, \\\n",
    "likelihood_usia_senior, likelihood_usia_junior, likelihood_gaji_senior, \\\n",
    "likelihood_gaji_junior, posterior_senior, posterior_junior, classification\n"
   ]
  }
 ],
 "metadata": {
  "kernelspec": {
   "display_name": "base",
   "language": "python",
   "name": "python3"
  },
  "language_info": {
   "codemirror_mode": {
    "name": "ipython",
    "version": 3
   },
   "file_extension": ".py",
   "mimetype": "text/x-python",
   "name": "python",
   "nbconvert_exporter": "python",
   "pygments_lexer": "ipython3",
   "version": "3.12.4"
  }
 },
 "nbformat": 4,
 "nbformat_minor": 2
}
